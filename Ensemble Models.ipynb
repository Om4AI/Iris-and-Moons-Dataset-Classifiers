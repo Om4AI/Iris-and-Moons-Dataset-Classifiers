{
 "cells": [
  {
   "cell_type": "markdown",
   "id": "651efa16-f4ca-4135-8a92-ed284ce2f5ea",
   "metadata": {},
   "source": [
    "# *Ensemble Models*"
   ]
  },
  {
   "cell_type": "code",
   "execution_count": 31,
   "id": "fd196d8c-1a5d-4e96-92ee-11f059fcc81c",
   "metadata": {},
   "outputs": [],
   "source": [
    "import sklearn\n",
    "from sklearn.ensemble import RandomForestClassifier\n",
    "from sklearn.ensemble import VotingClassifier\n",
    "from sklearn.linear_model import LogisticRegression\n",
    "from sklearn.svm import SVC\n",
    "import pandas as pd\n",
    "import matplotlib.pyplot as plt\n",
    "from sklearn.tree import DecisionTreeClassifier\n",
    "from sklearn.datasets import make_moons\n",
    "from sklearn.metrics import accuracy_score\n",
    "from sklearn.model_selection import train_test_split\n",
    "from sklearn.ensemble import BaggingClassifier\n",
    "from sklearn.tree import DecisionTreeClassifier\n",
    "from sklearn.ensemble import RandomForestClassifier\n",
    "from sklearn.metrics import f1_score\n",
    "from sklearn.datasets import load_iris\n",
    "from sklearn.ensemble import AdaBoostClassifier\n",
    "from sklearn.ensemble import GradientBoostingRegressor\n",
    "\n",
    "%matplotlib inline"
   ]
  },
  {
   "cell_type": "markdown",
   "id": "c4088db9-73e0-4122-98df-9413e71f9ab3",
   "metadata": {},
   "source": [
    "### Dataset"
   ]
  },
  {
   "cell_type": "code",
   "execution_count": 2,
   "id": "eb849218-3fc9-48ba-a9a2-1089b183d429",
   "metadata": {},
   "outputs": [],
   "source": [
    "# Moons Dataset\n",
    "x , y = make_moons(n_samples= 500, noise= 0.35, random_state= 42)\n",
    "x_train, x_test, y_train, y_test = train_test_split(x, y, test_size= 0.2, random_state= 42)"
   ]
  },
  {
   "cell_type": "markdown",
   "id": "22dd4bf4-586f-4256-9244-4d38c71f8d29",
   "metadata": {},
   "source": [
    "### Voting Classifiers: Hard Voting"
   ]
  },
  {
   "cell_type": "code",
   "execution_count": 3,
   "id": "cc726bed-74b7-41ba-ae7e-0b74a88a8a0b",
   "metadata": {},
   "outputs": [
    {
     "data": {
      "text/plain": [
       "VotingClassifier(estimators=[('lr', LogisticRegression()),\n",
       "                             ('rf', RandomForestClassifier()), ('svc', SVC())])"
      ]
     },
     "execution_count": 3,
     "metadata": {},
     "output_type": "execute_result"
    }
   ],
   "source": [
    "# Classifiers\n",
    "log_clf = LogisticRegression()\n",
    "ran_clf = RandomForestClassifier()\n",
    "svm_clf = SVC()\n",
    "\n",
    "voting_clf = VotingClassifier(estimators=[('lr', log_clf), ('rf', ran_clf), ('svc', svm_clf)],\n",
    "                              voting= 'hard')\n",
    "voting_clf.fit(x_train, y_train)"
   ]
  },
  {
   "cell_type": "markdown",
   "id": "c83be92b-c90b-4650-9dce-2919177c71fd",
   "metadata": {},
   "source": [
    "### Accuracy check"
   ]
  },
  {
   "cell_type": "code",
   "execution_count": 4,
   "id": "7d0913ae-1440-4e1a-8efd-88d2f2e035e6",
   "metadata": {},
   "outputs": [
    {
     "name": "stdout",
     "output_type": "stream",
     "text": [
      "LogisticRegression 0.84\n",
      "RandomForestClassifier 0.84\n",
      "SVC 0.85\n",
      "VotingClassifier 0.84\n"
     ]
    }
   ],
   "source": [
    "for clf in (log_clf, ran_clf, svm_clf, voting_clf):\n",
    "    clf.fit(x_train, y_train)\n",
    "    y_pred = clf.predict(x_test)\n",
    "#     .__class__.__name__  --> References the names of the objects that we created before\n",
    "    print(clf.__class__.__name__, accuracy_score(y_test, y_pred))"
   ]
  },
  {
   "cell_type": "code",
   "execution_count": null,
   "id": "eb66e05d-ab20-47e9-a7d5-097bf4447bbe",
   "metadata": {},
   "outputs": [],
   "source": []
  },
  {
   "cell_type": "markdown",
   "id": "9c4121dc-9238-489b-aa17-b159822b9953",
   "metadata": {},
   "source": [
    "### Bagging & Pasting in Scikit-Learn"
   ]
  },
  {
   "cell_type": "code",
   "execution_count": 5,
   "id": "db156fab-d2b3-4f6d-bc56-04de5f0765ca",
   "metadata": {},
   "outputs": [],
   "source": [
    "bag_clf = BaggingClassifier(base_estimator= DecisionTreeClassifier(),\n",
    "                            n_estimators= 500,\n",
    "                            max_samples= 100,\n",
    "                            bootstrap= True,\n",
    "                            n_jobs= -1)\n",
    "\n",
    "bag_clf.fit(x_train, y_train)\n",
    "y_pred = bag_clf.predict(x_test)"
   ]
  },
  {
   "cell_type": "markdown",
   "id": "97ac8424-288f-4e30-8a84-abfe5d862d05",
   "metadata": {},
   "source": [
    "### Evaluation"
   ]
  },
  {
   "cell_type": "code",
   "execution_count": 6,
   "id": "a8b47008-44d9-42ca-924b-9d452a59d7e5",
   "metadata": {},
   "outputs": [
    {
     "data": {
      "text/plain": [
       "0.8775"
      ]
     },
     "execution_count": 6,
     "metadata": {},
     "output_type": "execute_result"
    }
   ],
   "source": [
    "# oob evaluation\n",
    "\n",
    "bag_clf1 = BaggingClassifier(DecisionTreeClassifier(),\n",
    "                             n_estimators= 500,\n",
    "                             bootstrap= True,\n",
    "                             n_jobs= -1,\n",
    "                             oob_score= True)\n",
    "\n",
    "bag_clf1.fit(x_train, y_train)\n",
    "bag_clf1.oob_score_"
   ]
  },
  {
   "cell_type": "code",
   "execution_count": 19,
   "id": "cd2bb5f4-15d0-4817-b5ad-14b56eccc8e6",
   "metadata": {},
   "outputs": [
    {
     "data": {
      "text/plain": [
       "0.84"
      ]
     },
     "execution_count": 19,
     "metadata": {},
     "output_type": "execute_result"
    }
   ],
   "source": [
    "y_pred1 = bag_clf1.predict(x_test)\n",
    "accuracy_score(y_test, y_pred1)"
   ]
  },
  {
   "cell_type": "code",
   "execution_count": 10,
   "id": "2b0ae1e1-9f7a-4eb3-8dde-77da41740956",
   "metadata": {
    "collapsed": true,
    "jupyter": {
     "outputs_hidden": true
    },
    "tags": []
   },
   "outputs": [
    {
     "data": {
      "text/plain": [
       "array([[1.        , 0.        ],\n",
       "       [0.        , 1.        ],\n",
       "       [0.        , 1.        ],\n",
       "       [0.58857143, 0.41142857],\n",
       "       [0.93370166, 0.06629834],\n",
       "       [1.        , 0.        ],\n",
       "       [1.        , 0.        ],\n",
       "       [0.6827957 , 0.3172043 ],\n",
       "       [0.26041667, 0.73958333],\n",
       "       [0.02339181, 0.97660819],\n",
       "       [0.24022346, 0.75977654],\n",
       "       [0.73863636, 0.26136364],\n",
       "       [1.        , 0.        ],\n",
       "       [0.01092896, 0.98907104],\n",
       "       [0.65822785, 0.34177215],\n",
       "       [1.        , 0.        ],\n",
       "       [1.        , 0.        ],\n",
       "       [1.        , 0.        ],\n",
       "       [1.        , 0.        ],\n",
       "       [0.6978022 , 0.3021978 ],\n",
       "       [0.00543478, 0.99456522],\n",
       "       [0.05555556, 0.94444444],\n",
       "       [0.58139535, 0.41860465],\n",
       "       [0.69892473, 0.30107527],\n",
       "       [0.95977011, 0.04022989],\n",
       "       [0.35135135, 0.64864865],\n",
       "       [0.21387283, 0.78612717],\n",
       "       [1.        , 0.        ],\n",
       "       [0.00515464, 0.99484536],\n",
       "       [0.38219895, 0.61780105],\n",
       "       [0.        , 1.        ],\n",
       "       [0.41450777, 0.58549223],\n",
       "       [0.11442786, 0.88557214],\n",
       "       [1.        , 0.        ],\n",
       "       [0.88947368, 0.11052632],\n",
       "       [0.76777251, 0.23222749],\n",
       "       [0.08383234, 0.91616766],\n",
       "       [0.07317073, 0.92682927],\n",
       "       [0.96858639, 0.03141361],\n",
       "       [1.        , 0.        ],\n",
       "       [0.03349282, 0.96650718],\n",
       "       [0.        , 1.        ],\n",
       "       [1.        , 0.        ],\n",
       "       [0.97959184, 0.02040816],\n",
       "       [0.98404255, 0.01595745],\n",
       "       [0.        , 1.        ],\n",
       "       [0.48295455, 0.51704545],\n",
       "       [0.88333333, 0.11666667],\n",
       "       [0.87222222, 0.12777778],\n",
       "       [1.        , 0.        ],\n",
       "       [0.        , 1.        ],\n",
       "       [0.98857143, 0.01142857],\n",
       "       [1.        , 0.        ],\n",
       "       [0.        , 1.        ],\n",
       "       [0.78857143, 0.21142857],\n",
       "       [0.        , 1.        ],\n",
       "       [1.        , 0.        ],\n",
       "       [0.63546798, 0.36453202],\n",
       "       [0.        , 1.        ],\n",
       "       [0.13586957, 0.86413043],\n",
       "       [1.        , 0.        ],\n",
       "       [0.00512821, 0.99487179],\n",
       "       [0.63020833, 0.36979167],\n",
       "       [0.        , 1.        ],\n",
       "       [0.97461929, 0.02538071],\n",
       "       [0.07281553, 0.92718447],\n",
       "       [0.37563452, 0.62436548],\n",
       "       [1.        , 0.        ],\n",
       "       [0.99456522, 0.00543478],\n",
       "       [0.26162791, 0.73837209],\n",
       "       [0.9787234 , 0.0212766 ],\n",
       "       [1.        , 0.        ],\n",
       "       [0.04371585, 0.95628415],\n",
       "       [0.88461538, 0.11538462],\n",
       "       [0.00505051, 0.99494949],\n",
       "       [0.96774194, 0.03225806],\n",
       "       [0.97237569, 0.02762431],\n",
       "       [0.97395833, 0.02604167],\n",
       "       [0.9144385 , 0.0855615 ],\n",
       "       [0.        , 1.        ],\n",
       "       [0.        , 1.        ],\n",
       "       [1.        , 0.        ],\n",
       "       [0.        , 1.        ],\n",
       "       [0.        , 1.        ],\n",
       "       [0.01069519, 0.98930481],\n",
       "       [1.        , 0.        ],\n",
       "       [0.27272727, 0.72727273],\n",
       "       [0.71005917, 0.28994083],\n",
       "       [0.95789474, 0.04210526],\n",
       "       [0.39320388, 0.60679612],\n",
       "       [0.62051282, 0.37948718],\n",
       "       [0.8655914 , 0.1344086 ],\n",
       "       [0.98901099, 0.01098901],\n",
       "       [0.20833333, 0.79166667],\n",
       "       [1.        , 0.        ],\n",
       "       [0.01212121, 0.98787879],\n",
       "       [0.25615764, 0.74384236],\n",
       "       [0.81927711, 0.18072289],\n",
       "       [0.78306878, 0.21693122],\n",
       "       [0.        , 1.        ],\n",
       "       [0.38857143, 0.61142857],\n",
       "       [0.98930481, 0.01069519],\n",
       "       [1.        , 0.        ],\n",
       "       [0.        , 1.        ],\n",
       "       [1.        , 0.        ],\n",
       "       [0.        , 1.        ],\n",
       "       [0.46857143, 0.53142857],\n",
       "       [0.05780347, 0.94219653],\n",
       "       [0.5255102 , 0.4744898 ],\n",
       "       [1.        , 0.        ],\n",
       "       [0.        , 1.        ],\n",
       "       [0.86187845, 0.13812155],\n",
       "       [0.01657459, 0.98342541],\n",
       "       [0.01030928, 0.98969072],\n",
       "       [0.        , 1.        ],\n",
       "       [0.79005525, 0.20994475],\n",
       "       [1.        , 0.        ],\n",
       "       [0.        , 1.        ],\n",
       "       [0.07222222, 0.92777778],\n",
       "       [0.        , 1.        ],\n",
       "       [0.56830601, 0.43169399],\n",
       "       [0.97029703, 0.02970297],\n",
       "       [0.43478261, 0.56521739],\n",
       "       [1.        , 0.        ],\n",
       "       [0.42574257, 0.57425743],\n",
       "       [0.92613636, 0.07386364],\n",
       "       [0.0047619 , 0.9952381 ],\n",
       "       [0.        , 1.        ],\n",
       "       [0.67484663, 0.32515337],\n",
       "       [1.        , 0.        ],\n",
       "       [0.        , 1.        ],\n",
       "       [1.        , 0.        ],\n",
       "       [0.08854167, 0.91145833],\n",
       "       [0.68617021, 0.31382979],\n",
       "       [1.        , 0.        ],\n",
       "       [0.01117318, 0.98882682],\n",
       "       [0.8172043 , 0.1827957 ],\n",
       "       [0.54271357, 0.45728643],\n",
       "       [0.9375    , 0.0625    ],\n",
       "       [0.93063584, 0.06936416],\n",
       "       [1.        , 0.        ],\n",
       "       [0.        , 1.        ],\n",
       "       [0.        , 1.        ],\n",
       "       [0.41208791, 0.58791209],\n",
       "       [0.97814208, 0.02185792],\n",
       "       [0.1027027 , 0.8972973 ],\n",
       "       [1.        , 0.        ],\n",
       "       [1.        , 0.        ],\n",
       "       [1.        , 0.        ],\n",
       "       [0.99473684, 0.00526316],\n",
       "       [0.98888889, 0.01111111],\n",
       "       [0.045     , 0.955     ],\n",
       "       [0.94444444, 0.05555556],\n",
       "       [0.98843931, 0.01156069],\n",
       "       [0.        , 1.        ],\n",
       "       [0.04371585, 0.95628415],\n",
       "       [0.82424242, 0.17575758],\n",
       "       [0.08333333, 0.91666667],\n",
       "       [1.        , 0.        ],\n",
       "       [0.        , 1.        ],\n",
       "       [0.01675978, 0.98324022],\n",
       "       [0.88439306, 0.11560694],\n",
       "       [0.91414141, 0.08585859],\n",
       "       [0.5       , 0.5       ],\n",
       "       [0.85882353, 0.14117647],\n",
       "       [0.98870056, 0.01129944],\n",
       "       [0.01169591, 0.98830409],\n",
       "       [0.96774194, 0.03225806],\n",
       "       [0.05945946, 0.94054054],\n",
       "       [0.05472637, 0.94527363],\n",
       "       [0.17553191, 0.82446809],\n",
       "       [1.        , 0.        ],\n",
       "       [1.        , 0.        ],\n",
       "       [1.        , 0.        ],\n",
       "       [0.01069519, 0.98930481],\n",
       "       [0.08287293, 0.91712707],\n",
       "       [0.        , 1.        ],\n",
       "       [0.        , 1.        ],\n",
       "       [1.        , 0.        ],\n",
       "       [1.        , 0.        ],\n",
       "       [0.84771574, 0.15228426],\n",
       "       [1.        , 0.        ],\n",
       "       [1.        , 0.        ],\n",
       "       [1.        , 0.        ],\n",
       "       [0.38922156, 0.61077844],\n",
       "       [0.60655738, 0.39344262],\n",
       "       [0.86263736, 0.13736264],\n",
       "       [0.01704545, 0.98295455],\n",
       "       [0.01041667, 0.98958333],\n",
       "       [0.53714286, 0.46285714],\n",
       "       [1.        , 0.        ],\n",
       "       [0.93296089, 0.06703911],\n",
       "       [0.00518135, 0.99481865],\n",
       "       [1.        , 0.        ],\n",
       "       [0.32795699, 0.67204301],\n",
       "       [0.44670051, 0.55329949],\n",
       "       [1.        , 0.        ],\n",
       "       [0.03205128, 0.96794872],\n",
       "       [0.        , 1.        ],\n",
       "       [1.        , 0.        ],\n",
       "       [0.06470588, 0.93529412],\n",
       "       [0.80628272, 0.19371728],\n",
       "       [1.        , 0.        ],\n",
       "       [0.00505051, 0.99494949],\n",
       "       [0.66842105, 0.33157895],\n",
       "       [0.92574257, 0.07425743],\n",
       "       [0.93908629, 0.06091371],\n",
       "       [0.08080808, 0.91919192],\n",
       "       [0.        , 1.        ],\n",
       "       [1.        , 0.        ],\n",
       "       [0.37278107, 0.62721893],\n",
       "       [0.97109827, 0.02890173],\n",
       "       [0.11      , 0.89      ],\n",
       "       [0.10588235, 0.89411765],\n",
       "       [0.83333333, 0.16666667],\n",
       "       [0.        , 1.        ],\n",
       "       [0.32222222, 0.67777778],\n",
       "       [1.        , 0.        ],\n",
       "       [0.94871795, 0.05128205],\n",
       "       [0.89940828, 0.10059172],\n",
       "       [0.76502732, 0.23497268],\n",
       "       [0.00574713, 0.99425287],\n",
       "       [0.11049724, 0.88950276],\n",
       "       [1.        , 0.        ],\n",
       "       [0.9742268 , 0.0257732 ],\n",
       "       [0.96685083, 0.03314917],\n",
       "       [0.97175141, 0.02824859],\n",
       "       [0.02702703, 0.97297297],\n",
       "       [0.        , 1.        ],\n",
       "       [0.        , 1.        ],\n",
       "       [0.54314721, 0.45685279],\n",
       "       [0.        , 1.        ],\n",
       "       [0.04878049, 0.95121951],\n",
       "       [0.97752809, 0.02247191],\n",
       "       [0.        , 1.        ],\n",
       "       [0.00546448, 0.99453552],\n",
       "       [0.86440678, 0.13559322],\n",
       "       [0.        , 1.        ],\n",
       "       [0.17021277, 0.82978723],\n",
       "       [0.        , 1.        ],\n",
       "       [1.        , 0.        ],\n",
       "       [0.        , 1.        ],\n",
       "       [0.        , 1.        ],\n",
       "       [0.98275862, 0.01724138],\n",
       "       [0.68421053, 0.31578947],\n",
       "       [0.99435028, 0.00564972],\n",
       "       [0.        , 1.        ],\n",
       "       [0.005     , 0.995     ],\n",
       "       [1.        , 0.        ],\n",
       "       [0.045     , 0.955     ],\n",
       "       [0.        , 1.        ],\n",
       "       [0.12562814, 0.87437186],\n",
       "       [0.98974359, 0.01025641],\n",
       "       [0.92090395, 0.07909605],\n",
       "       [0.00510204, 0.99489796],\n",
       "       [0.94285714, 0.05714286],\n",
       "       [1.        , 0.        ],\n",
       "       [0.        , 1.        ],\n",
       "       [0.        , 1.        ],\n",
       "       [1.        , 0.        ],\n",
       "       [0.        , 1.        ],\n",
       "       [0.01030928, 0.98969072],\n",
       "       [0.        , 1.        ],\n",
       "       [0.30481283, 0.69518717],\n",
       "       [0.96551724, 0.03448276],\n",
       "       [0.02020202, 0.97979798],\n",
       "       [0.93820225, 0.06179775],\n",
       "       [1.        , 0.        ],\n",
       "       [0.01081081, 0.98918919],\n",
       "       [0.43352601, 0.56647399],\n",
       "       [1.        , 0.        ],\n",
       "       [0.        , 1.        ],\n",
       "       [1.        , 0.        ],\n",
       "       [0.1734104 , 0.8265896 ],\n",
       "       [0.        , 1.        ],\n",
       "       [0.37096774, 0.62903226],\n",
       "       [0.04046243, 0.95953757],\n",
       "       [0.76271186, 0.23728814],\n",
       "       [0.02424242, 0.97575758],\n",
       "       [0.99421965, 0.00578035],\n",
       "       [0.67857143, 0.32142857],\n",
       "       [0.        , 1.        ],\n",
       "       [0.92982456, 0.07017544],\n",
       "       [0.73224044, 0.26775956],\n",
       "       [0.        , 1.        ],\n",
       "       [1.        , 0.        ],\n",
       "       [0.01621622, 0.98378378],\n",
       "       [0.        , 1.        ],\n",
       "       [0.82222222, 0.17777778],\n",
       "       [0.        , 1.        ],\n",
       "       [0.9726776 , 0.0273224 ],\n",
       "       [0.10106383, 0.89893617],\n",
       "       [0.84530387, 0.15469613],\n",
       "       [0.19662921, 0.80337079],\n",
       "       [0.98823529, 0.01176471],\n",
       "       [0.92090395, 0.07909605],\n",
       "       [0.        , 1.        ],\n",
       "       [0.02747253, 0.97252747],\n",
       "       [0.18181818, 0.81818182],\n",
       "       [0.11940299, 0.88059701],\n",
       "       [0.        , 1.        ],\n",
       "       [1.        , 0.        ],\n",
       "       [0.96791444, 0.03208556],\n",
       "       [0.49068323, 0.50931677],\n",
       "       [1.        , 0.        ],\n",
       "       [0.03278689, 0.96721311],\n",
       "       [0.7       , 0.3       ],\n",
       "       [0.02453988, 0.97546012],\n",
       "       [0.90449438, 0.09550562],\n",
       "       [0.97802198, 0.02197802],\n",
       "       [0.        , 1.        ],\n",
       "       [1.        , 0.        ],\n",
       "       [0.99019608, 0.00980392],\n",
       "       [0.        , 1.        ],\n",
       "       [0.        , 1.        ],\n",
       "       [1.        , 0.        ],\n",
       "       [0.        , 1.        ],\n",
       "       [1.        , 0.        ],\n",
       "       [0.14465409, 0.85534591],\n",
       "       [0.81382979, 0.18617021],\n",
       "       [1.        , 0.        ],\n",
       "       [0.        , 1.        ],\n",
       "       [0.01015228, 0.98984772],\n",
       "       [0.74479167, 0.25520833],\n",
       "       [0.        , 1.        ],\n",
       "       [0.45679012, 0.54320988],\n",
       "       [0.1344086 , 0.8655914 ],\n",
       "       [0.63243243, 0.36756757],\n",
       "       [1.        , 0.        ],\n",
       "       [0.82122905, 0.17877095],\n",
       "       [0.7247191 , 0.2752809 ],\n",
       "       [0.        , 1.        ],\n",
       "       [0.95027624, 0.04972376],\n",
       "       [0.00584795, 0.99415205],\n",
       "       [1.        , 0.        ],\n",
       "       [0.4852071 , 0.5147929 ],\n",
       "       [0.97883598, 0.02116402],\n",
       "       [0.53179191, 0.46820809],\n",
       "       [0.67630058, 0.32369942],\n",
       "       [0.20231214, 0.79768786],\n",
       "       [0.04494382, 0.95505618],\n",
       "       [0.03743316, 0.96256684],\n",
       "       [0.        , 1.        ],\n",
       "       [0.47738693, 0.52261307],\n",
       "       [0.94054054, 0.05945946],\n",
       "       [0.20967742, 0.79032258],\n",
       "       [1.        , 0.        ],\n",
       "       [0.82222222, 0.17777778],\n",
       "       [1.        , 0.        ],\n",
       "       [0.00584795, 0.99415205],\n",
       "       [0.        , 1.        ],\n",
       "       [0.97487437, 0.02512563],\n",
       "       [0.99425287, 0.00574713],\n",
       "       [0.960199  , 0.039801  ],\n",
       "       [0.36548223, 0.63451777],\n",
       "       [1.        , 0.        ],\n",
       "       [0.00564972, 0.99435028],\n",
       "       [1.        , 0.        ],\n",
       "       [0.08743169, 0.91256831],\n",
       "       [0.9895288 , 0.0104712 ],\n",
       "       [1.        , 0.        ],\n",
       "       [0.92777778, 0.07222222],\n",
       "       [0.00558659, 0.99441341],\n",
       "       [1.        , 0.        ],\n",
       "       [0.01081081, 0.98918919],\n",
       "       [0.02884615, 0.97115385],\n",
       "       [0.        , 1.        ],\n",
       "       [0.3027027 , 0.6972973 ],\n",
       "       [1.        , 0.        ],\n",
       "       [0.91715976, 0.08284024],\n",
       "       [0.        , 1.        ],\n",
       "       [0.8956044 , 0.1043956 ],\n",
       "       [0.04950495, 0.95049505],\n",
       "       [0.98913043, 0.01086957],\n",
       "       [0.21212121, 0.78787879],\n",
       "       [0.        , 1.        ],\n",
       "       [0.00970874, 0.99029126],\n",
       "       [0.        , 1.        ],\n",
       "       [0.96825397, 0.03174603],\n",
       "       [0.109375  , 0.890625  ],\n",
       "       [0.22164948, 0.77835052],\n",
       "       [1.        , 0.        ],\n",
       "       [1.        , 0.        ],\n",
       "       [0.33695652, 0.66304348],\n",
       "       [0.99441341, 0.00558659],\n",
       "       [0.        , 1.        ],\n",
       "       [0.        , 1.        ],\n",
       "       [0.85638298, 0.14361702],\n",
       "       [1.        , 0.        ],\n",
       "       [0.63285024, 0.36714976],\n",
       "       [0.98369565, 0.01630435],\n",
       "       [1.        , 0.        ],\n",
       "       [0.        , 1.        ],\n",
       "       [0.81578947, 0.18421053],\n",
       "       [0.        , 1.        ],\n",
       "       [0.1       , 0.9       ],\n",
       "       [0.95789474, 0.04210526],\n",
       "       [1.        , 0.        ],\n",
       "       [0.        , 1.        ],\n",
       "       [0.69194313, 0.30805687]])"
      ]
     },
     "execution_count": 10,
     "metadata": {},
     "output_type": "execute_result"
    }
   ],
   "source": [
    "bag_clf1.oob_decision_function_"
   ]
  },
  {
   "cell_type": "markdown",
   "id": "0cde8233-a896-42e6-ac4f-c7577358c7f2",
   "metadata": {},
   "source": [
    "# *Random Forests Classifier*"
   ]
  },
  {
   "cell_type": "code",
   "execution_count": 21,
   "id": "b6085b51-5a49-48db-9c71-5c43e5be8d56",
   "metadata": {},
   "outputs": [
    {
     "data": {
      "text/plain": [
       "RandomForestClassifier(max_leaf_nodes=16, n_estimators=500, n_jobs=-1,\n",
       "                       random_state=42)"
      ]
     },
     "execution_count": 21,
     "metadata": {},
     "output_type": "execute_result"
    }
   ],
   "source": [
    "# 500 Decision Trees, max_leaf_nodes: 16\n",
    "\n",
    "rfor_clf = RandomForestClassifier(n_estimators= 500,\n",
    "                                  max_leaf_nodes= 16,\n",
    "                                  random_state= 42,\n",
    "                                  n_jobs= -1)\n",
    "\n",
    "rfor_clf.fit(x_train, y_train)"
   ]
  },
  {
   "cell_type": "code",
   "execution_count": 22,
   "id": "e712e9fc-3425-44b4-acb6-a3c6adaeff98",
   "metadata": {},
   "outputs": [
    {
     "data": {
      "text/plain": [
       "0.8543689320388349"
      ]
     },
     "execution_count": 22,
     "metadata": {},
     "output_type": "execute_result"
    }
   ],
   "source": [
    "y_pred_rf = rfor_clf.predict(x_test)\n",
    "f1_score(y_test, y_pred_rf)\n",
    "# accuracy_score(y_test, y_pred_rf)"
   ]
  },
  {
   "cell_type": "markdown",
   "id": "2ee6fa53-9bd7-445b-93ad-32b644cc9a2b",
   "metadata": {},
   "source": [
    "### *Feature Importance: Iris Dataset & Random Forest Classifier*"
   ]
  },
  {
   "cell_type": "code",
   "execution_count": 26,
   "id": "ca0064cf-bac7-4301-9739-30a92d7b4aa5",
   "metadata": {},
   "outputs": [
    {
     "name": "stdout",
     "output_type": "stream",
     "text": [
      "sepal length (cm) :  0.11249225099876375\n",
      "sepal width (cm) :  0.02311928828251033\n",
      "petal length (cm) :  0.4410304643639577\n",
      "petal width (cm) :  0.4233579963547682\n"
     ]
    }
   ],
   "source": [
    "iris = load_iris()\n",
    "iris_rf_clf = RandomForestClassifier(n_estimators= 500,\n",
    "                                     n_jobs= -1,\n",
    "                                     random_state= 42)\n",
    "\n",
    "iris_rf_clf.fit(iris[\"data\"], iris[\"target\"])\n",
    "iris_rf_clf.feature_importances_\n",
    "\n",
    "for name, score in zip(iris[\"feature_names\"], iris_rf_clf.feature_importances_):\n",
    "    print(name, \": \",score)"
   ]
  },
  {
   "cell_type": "code",
   "execution_count": null,
   "id": "b0648695-4ac6-491a-8c1f-8ea97024c8c5",
   "metadata": {},
   "outputs": [],
   "source": []
  },
  {
   "cell_type": "markdown",
   "id": "81cd2602-ed20-4adc-aca7-e72823c5ee4f",
   "metadata": {},
   "source": [
    "### *AdaBoost Classifier*"
   ]
  },
  {
   "cell_type": "code",
   "execution_count": 28,
   "id": "42f8670d-1d9d-4ab6-a271-f507c0c2ef2a",
   "metadata": {},
   "outputs": [
    {
     "data": {
      "text/plain": [
       "AdaBoostClassifier(base_estimator=DecisionTreeClassifier(max_depth=1),\n",
       "                   learning_rate=0.5, n_estimators=200, random_state=42)"
      ]
     },
     "execution_count": 28,
     "metadata": {},
     "output_type": "execute_result"
    }
   ],
   "source": [
    "ada_clf = AdaBoostClassifier(base_estimator= DecisionTreeClassifier(max_depth= 1),\n",
    "                             n_estimators= 200,\n",
    "                             algorithm=\"SAMME.R\",\n",
    "                             random_state= 42,\n",
    "                             learning_rate= 0.5)\n",
    "\n",
    "ada_clf.fit(x_train, y_train)"
   ]
  },
  {
   "cell_type": "code",
   "execution_count": 29,
   "id": "de7ac4b4-3776-4e6a-95f6-1cbcf31d20f8",
   "metadata": {},
   "outputs": [
    {
     "data": {
      "text/plain": [
       "0.8971962616822429"
      ]
     },
     "execution_count": 29,
     "metadata": {},
     "output_type": "execute_result"
    }
   ],
   "source": [
    "ada_preds = ada_clf.predict(x_test)\n",
    "f1_score(y_test, ada_preds)"
   ]
  },
  {
   "cell_type": "code",
   "execution_count": null,
   "id": "2d4d094d-1acb-4390-83f5-1e8d271bc900",
   "metadata": {},
   "outputs": [],
   "source": []
  },
  {
   "cell_type": "markdown",
   "id": "74119e04-ede7-42f8-b7d5-affc1ab5d278",
   "metadata": {},
   "source": [
    "### *Gradient Boosting Regressor*"
   ]
  },
  {
   "cell_type": "code",
   "execution_count": 32,
   "id": "67010ca5-9371-4c52-b600-619a734aeeb0",
   "metadata": {},
   "outputs": [
    {
     "data": {
      "text/plain": [
       "GradientBoostingRegressor(learning_rate=1, max_depth=2, n_estimators=3)"
      ]
     },
     "execution_count": 32,
     "metadata": {},
     "output_type": "execute_result"
    }
   ],
   "source": [
    "gbrt = GradientBoostingRegressor(max_depth= 2, n_estimators= 3, learning_rate= 1)\n",
    "gbrt.fit(x, y)"
   ]
  },
  {
   "cell_type": "code",
   "execution_count": null,
   "id": "cbf17f3d-bc69-4dfa-a259-425e451215e4",
   "metadata": {},
   "outputs": [],
   "source": []
  }
 ],
 "metadata": {
  "kernelspec": {
   "display_name": "Python 3",
   "language": "python",
   "name": "python3"
  },
  "language_info": {
   "codemirror_mode": {
    "name": "ipython",
    "version": 3
   },
   "file_extension": ".py",
   "mimetype": "text/x-python",
   "name": "python",
   "nbconvert_exporter": "python",
   "pygments_lexer": "ipython3",
   "version": "3.8.8"
  }
 },
 "nbformat": 4,
 "nbformat_minor": 5
}
